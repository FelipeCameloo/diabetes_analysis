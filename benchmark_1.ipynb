{
 "cells": [
  {
   "cell_type": "code",
   "execution_count": 1,
   "id": "b983bb29",
   "metadata": {},
   "outputs": [],
   "source": [
    "import pandas as pd\n",
    "import numpy as np\n",
    "\n",
    "import warnings\n",
    "\n",
    "warnings.filterwarnings('ignore')"
   ]
  },
  {
   "cell_type": "code",
   "execution_count": 2,
   "id": "461b8180",
   "metadata": {},
   "outputs": [
    {
     "name": "stdout",
     "output_type": "stream",
     "text": [
      "<class 'pandas.core.frame.DataFrame'>\n",
      "RangeIndex: 768 entries, 0 to 767\n",
      "Data columns (total 9 columns):\n",
      " #   Column                    Non-Null Count  Dtype  \n",
      "---  ------                    --------------  -----  \n",
      " 0   Pregnancies               768 non-null    int64  \n",
      " 1   Glucose                   768 non-null    int64  \n",
      " 2   BloodPressure             768 non-null    int64  \n",
      " 3   SkinThickness             768 non-null    int64  \n",
      " 4   Insulin                   768 non-null    int64  \n",
      " 5   BMI                       768 non-null    float64\n",
      " 6   DiabetesPedigreeFunction  768 non-null    float64\n",
      " 7   Age                       768 non-null    int64  \n",
      " 8   Outcome                   768 non-null    int64  \n",
      "dtypes: float64(2), int64(7)\n",
      "memory usage: 54.1 KB\n"
     ]
    }
   ],
   "source": [
    "df = pd.read_csv(r'C:\\Users\\Felipe\\Pictures\\diabetes_analysis\\diabetes.csv')\n",
    "df.info()"
   ]
  },
  {
   "cell_type": "code",
   "execution_count": 3,
   "id": "cc5cbad4",
   "metadata": {},
   "outputs": [],
   "source": [
    "# Splitting the data\n",
    "\n",
    "from sklearn.model_selection import train_test_split\n",
    "\n",
    "x = df.drop('Outcome', axis=1)\n",
    "y = df['Outcome']\n",
    "\n",
    "x_train, x_test, y_train, y_test = train_test_split(x, y, train_size=0.35, random_state=42)"
   ]
  },
  {
   "cell_type": "code",
   "execution_count": 4,
   "id": "cbb6a551",
   "metadata": {},
   "outputs": [],
   "source": [
    "# Setting up the models\n",
    "\n",
    "from sklearn.linear_model import LogisticRegression\n",
    "from sklearn.tree import DecisionTreeClassifier\n",
    "from sklearn.ensemble import RandomForestClassifier\n",
    "import xgboost as xgb\n",
    "from sklearn.neural_network import MLPClassifier\n",
    "from sklearn import svm\n",
    "\n",
    "lr = LogisticRegression(random_state=42)\n",
    "dt = DecisionTreeClassifier(random_state=42)\n",
    "rf = RandomForestClassifier(random_state=42)\n",
    "xgboost = xgb.XGBClassifier(random_state=42)\n",
    "mlp = MLPClassifier(random_state=42)\n",
    "svmc = svm.SVC(random_state=42)\n"
   ]
  },
  {
   "cell_type": "code",
   "execution_count": 5,
   "id": "46dc28a9",
   "metadata": {},
   "outputs": [],
   "source": [
    "# Training default models for the first benchmark\n",
    "\n",
    "lr.fit(x_train,y_train)\n",
    "dt.fit(x_train,y_train)\n",
    "rf.fit(x_train,y_train)\n",
    "xgboost.fit(x_train,y_train)\n",
    "mlp.fit(x_train,y_train)\n",
    "svmc.fit(x_train,y_train)\n",
    "\n",
    "# Getting the predictions\n",
    "\n",
    "lr_predict = lr.predict(x_test)\n",
    "dt_predict = dt.predict(x_test)\n",
    "rf_predict = rf.predict(x_test)\n",
    "xgboost_predict = xgboost.predict(x_test)\n",
    "mlp_predict = mlp.predict(x_test)\n",
    "svmc_predict = svmc.predict(x_test)"
   ]
  },
  {
   "cell_type": "code",
   "execution_count": 6,
   "id": "6ad2c6c9",
   "metadata": {},
   "outputs": [
    {
     "name": "stdout",
     "output_type": "stream",
     "text": [
      "Logistic Regression\n",
      "\n",
      "              precision    recall  f1-score   support\n",
      "\n",
      "           0       0.84      0.78      0.81       348\n",
      "           1       0.57      0.66      0.61       152\n",
      "\n",
      "    accuracy                           0.74       500\n",
      "   macro avg       0.70      0.72      0.71       500\n",
      "weighted avg       0.76      0.74      0.75       500\n",
      "\n",
      "Decision Tree\n",
      "\n",
      "              precision    recall  f1-score   support\n",
      "\n",
      "           0       0.75      0.79      0.77       306\n",
      "           1       0.63      0.58      0.61       194\n",
      "\n",
      "    accuracy                           0.71       500\n",
      "   macro avg       0.69      0.69      0.69       500\n",
      "weighted avg       0.70      0.71      0.71       500\n",
      "\n",
      "Random Forest\n",
      "\n",
      "              precision    recall  f1-score   support\n",
      "\n",
      "           0       0.86      0.80      0.83       347\n",
      "           1       0.60      0.70      0.65       153\n",
      "\n",
      "    accuracy                           0.77       500\n",
      "   macro avg       0.73      0.75      0.74       500\n",
      "weighted avg       0.78      0.77      0.77       500\n",
      "\n",
      "Xgboost\n",
      "\n",
      "              precision    recall  f1-score   support\n",
      "\n",
      "           0       0.81      0.82      0.81       321\n",
      "           1       0.67      0.66      0.67       179\n",
      "\n",
      "    accuracy                           0.76       500\n",
      "   macro avg       0.74      0.74      0.74       500\n",
      "weighted avg       0.76      0.76      0.76       500\n",
      "\n",
      "Multilayer Perceptron\n",
      "\n",
      "              precision    recall  f1-score   support\n",
      "\n",
      "           0       0.76      0.76      0.76       325\n",
      "           1       0.56      0.57      0.56       175\n",
      "\n",
      "    accuracy                           0.69       500\n",
      "   macro avg       0.66      0.66      0.66       500\n",
      "weighted avg       0.69      0.69      0.69       500\n",
      "\n",
      "Support Vector Machine\n",
      "\n",
      "              precision    recall  f1-score   support\n",
      "\n",
      "           0       0.93      0.74      0.82       403\n",
      "           1       0.42      0.76      0.54        97\n",
      "\n",
      "    accuracy                           0.75       500\n",
      "   macro avg       0.67      0.75      0.68       500\n",
      "weighted avg       0.83      0.75      0.77       500\n",
      "\n"
     ]
    }
   ],
   "source": [
    "# Assessing the results\n",
    "\n",
    "from sklearn.metrics import classification_report\n",
    "\n",
    "print('Logistic Regression\\n')\n",
    "print(classification_report(lr_predict,y_test))\n",
    "print('Decision Tree\\n')\n",
    "print(classification_report(dt_predict,y_test))\n",
    "print('Random Forest\\n')\n",
    "print(classification_report(rf_predict,y_test))\n",
    "print('Xgboost\\n')\n",
    "print(classification_report(xgboost_predict,y_test))\n",
    "print('Multilayer Perceptron\\n')\n",
    "print(classification_report(mlp_predict,y_test))\n",
    "print('Support Vector Machine\\n')\n",
    "print(classification_report(svmc_predict,y_test))"
   ]
  }
 ],
 "metadata": {
  "kernelspec": {
   "display_name": "Python 3",
   "language": "python",
   "name": "python3"
  },
  "language_info": {
   "codemirror_mode": {
    "name": "ipython",
    "version": 3
   },
   "file_extension": ".py",
   "mimetype": "text/x-python",
   "name": "python",
   "nbconvert_exporter": "python",
   "pygments_lexer": "ipython3",
   "version": "3.11.9"
  }
 },
 "nbformat": 4,
 "nbformat_minor": 5
}
